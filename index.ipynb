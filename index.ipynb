{
 "cells": [
  {
   "cell_type": "markdown",
   "metadata": {},
   "source": [
    "# Negative Binomial Distribution\n",
    "\n",
    "## Introduction\n",
    "\n",
    "In this lesson, you'll learn about negative binomial trials, and the negative binomial distribution!\n",
    "\n",
    "## Objectives\n",
    "\n",
    "You will be able to:\n",
    "\n",
    "* Understand and explain the Negative Binomial Distribution and its uses\n",
    "\n",
    "\n",
    "## Negative Binomial Trials\n",
    "\n",
    "To understand the Negative Binomial Distribution, we first need to have a clear understanding of what it describes--**_Negative Binomial Trials_**. This sounds more intimidating that it actually is--the idea is actually pretty straightforward.  \n",
    "\n",
    "Consider the following question:\n",
    "\n",
    "I have a fair coin.  Let's consider heads a success, and tails a failure.  How many times can I flip the coin before I fail 3 times?\n",
    "\n",
    "The first thought you'll probably have is that there's no single answer to this--instead, the answer falls across a distribution of probabilities.  It's possible that our first three flips in are all tails.  It's also possible (but exceedingly unlikely) that we flip the coin 100 times (or 1,000, or 1,000,000 times) and not still have heads show up less than 3 times in total. \n",
    "\n",
    "The **_Negative Binomial Distribution_** allows us to easily describe the probability distribution of the different ways a Negative Binomial Trial could work out.  \n",
    "\n",
    "In more formal terms, the Negative Binomial Distribution requires the following parameters:\n",
    "\n",
    "The Negative Binomial Distribution describes the number of successes $ k $ until observing a pre-determined number of failures $ r $ where the probability of success for each independent trail is $ p $.  \n",
    "\n",
    "Note that since there's no such thing as half a tails or half a trial,  this means that the Negative Binomial Distribution is a **_Discrete Distribution_**, since it's concerned with multiple discrete, independent events. \n",
    "\n",
    "#### Sucess or Failure?\n",
    "\n",
    "Note that depending on where you look, you'll see some sources that define $r$ as a fixed number of **_failures_**, while others will describe it as a fixed number of **_success_**.  Don't be confused by this--both of these definitions just describe two sides of the same coin (pun intended).  By definition, any trial with a binary outcome can equally be described in terms of failure or success.  For instance, saying \"What is the probability that it takes me 6 coin flips to get tails twice?\", it doesn't actually matter if we define tails as a \"success\" or as a \"failure\"--all that matters is that we calculate the probability that tails makes its 2nd appearance on the 6th flip.    \n",
    "\n",
    "For the sake of simplicity, we'll define $r$ as the fixed number of **_failures_** throughout this lesson. \n",
    "\n",
    "\n",
    "#### Relationship to Binomal Distribution\n",
    "\n",
    "You may recall the **_Binomial Distribution_** that we learned about previously.  Comparing and contrasting it with the Negative Binomial Distribution helps us better understand what each is used for. \n",
    "\n",
    "The **_Binomial Distribution_** describes the number of successes $ k $ achieved in $ n $ trials, where the probability of success is $ p $.\n",
    "\n",
    "The **_Negative Binomial Distribution_** describes the number of successes $ k $  until observing $ r $ failures (or successes--this is arbitrary, and depends on how you phrase the question; it doesn't particularly matter if we define heads or tails as a failure, as long as we pick one).  Note that these failures do **_not_** need to be consecutive, just cumulative!\n",
    "\n",
    "#### Putting It Into Words\n",
    "\n",
    "Let's work through an example of phrasing a problem that would be described by the binomial distribution, and phrasing another problem that would be described by the negative binomial distribution. \n",
    "\n",
    "**_Binomial Distribution_**: \"I flip a fair coin 5 times. What are the chances that I get heads 0 times? 1 time? 2 times? Etc...\"\n",
    "\n",
    "**_Negative Binomial Distribution_**: I flip a fair coin 5 times. What are the chances it takes me two flips to get heads twice? How about 3 flips to get heads twice? 4 Flips? Etc...\"\n",
    "\n",
    "### Defining Parameters\n",
    "\n",
    "Now that we know what we know about the Negative Binomial Distribution, let's set some parameters for the coin-flipping experiment we described above and take a look at the corresponding Negative Binomial Distribution that describes it. \n",
    "\n",
    "Let's define our problem statement as:\n",
    "\n",
    "\"I'm going to flip a fair coin 10 times. I want to see how long it takes for the coin to land on heads 2 times.  What is the probability that this happens after 2 coin flips? After 3? ... After 10?\"\n",
    "\n",
    "The statement above describes a Negative Binomial Trial. Let's examine it and see if we can find the parameters that we can use to describe the corresponding Negative Binomial Distribution!\n",
    "\n",
    "$ r = Number\\ of\\ Failures = 2 $, since we're interested in seeing how long it takes to land on heads a total of two times. \n",
    "\n",
    "$ x = Number\\ of\\ Trials $--this can be any number greater than 2.  It cannot be smaller than 2, because it is mathematically impossible to satisfy our pre-set condition if the number of trials is smaller than our target (it's impossible to get 2 heads out a single coin flip). \n",
    "\n",
    "$ p = Fair\\ Coin = 0.5$, since a fair coin has a 50/50 chance of landing on either heads or tails. \n",
    "\n",
    "The easiest way to think of this is that the distribution has a **_Fixed Number r_** and a **_Random Variable X_**.  When we perform Negative Binomial Trials, we _know how many failures we're looking for_.  This number is denoted as the parameter $r$.  Our random variable is what we don't know--exactly how many trials $x$ it will take to reach our fixed number of failures $r$.    \n",
    "\n",
    "### The Negative Binomial Formula\n",
    "\n",
    "If we know the parameters, we can calculate our Negative Binomial Probability by pulling them into the following formula:\n",
    "\n",
    "$b(x, r, P) =\\  _{x-1}C_{\\ r-1} * P^{\\ r} * (1-P)^{\\ x-r}  $ \n",
    "\n",
    "Don't worry if this looks pretty overwhelming.  We'll break it down.\n",
    "\n",
    "Let's start by recalling our parameters:\n",
    "\n",
    "$ r = 2 $\n",
    "\n",
    "$ x = 10 $\n",
    "\n",
    "$ P = 0.5 $ \n",
    "\n",
    "You may also be wondering what $_{x-1}C_{\\ r-1}$ is the equation.  This is a mathematical notation that stands for $$\\frac{(x-1)!}{((n-1)-(r-1))!(r-1)!}$$.  This equation probably looks scary, too, but don't worry--this is just the formula for the binomial distribution, which you've seen before. \n",
    "\n",
    "**_A Note on This Equation:_**  This equation is used to calculate the **_Negative Binomial Probability_**, which is just the probability for a given value of $x$, not the entire probability distribution.  If we want to know the Negative Binomial Probability for 10, we set $x=10$ and plug the parameters into this equation. If we want to know the probability for 3, we set $x=3$, and so on. \n",
    "\n",
    "#### What Exactly Are We Calculating?\n",
    "\n",
    "When working with discrete probabilities, it sometimes helps to think of the corresponding trials as a tree diagram. Let's examine all the possible ways that that three coin flips can work out:\n",
    "\n",
    "We could use our parameters and describe our problem as: What is the negative binomial probability of $b(x=3, r=2, p=0.5)$?\n",
    "\n",
    "However, we could also phrase it in much more simple terms--what are the odds that we get our 2nd heads on the 3rd coin flip?\n",
    "\n",
    "Logically, it follows that in order for heads to appear for the 2nd time on the 3rd coin flip, that means that heads must have appeared exactly once by the second trial.  We can generalize this statement further to say that in order for us to hit $r$ on the trial $x$, that means that this can only happen in situations where we have a count of $r-1$ on trial $x-1$.  Another way to phrase is by considering impossibilities at any given step--it's impossible to get our 2nd heads on the third flip if we have 0 heads on the second flip, and also if we had 2 heads on the second flip.  If $r=2$ and $x=3$, then our magic number for step $x=2$ is $r=1$. \n",
    "\n",
    "This brings us to that potentially scary equation we saw above. As we mentioned before, the **_Probability Mass Function_** for the **_Binomial Distribution_** hiding inside of that equation. That's one half of the equation above.  The other half of the equation is just calculating the odds that we reach $r$ on trial number $x$.\n",
    "\n",
    "This means that we can break the equation down into two separate parts:\n",
    "\n",
    "1. The probability that we have $r-1$ failures on trail $x-1$.  In the negative binomial probability equation, this is denoted by $_{x-1}C_{\\ r-1}$.\n",
    "\n",
    "2. The probability that we get failure $r$ on trial $x$. This is denoted by $P^{\\ r} * (1-P)^{\\ x-r}$\n",
    "\n",
    "Since these trials are all independent, we can simply calculate our **_Negative Binomial Probability_** by just multiplying the two, giving us our original equation of:\n",
    "\n",
    "$$b(x, r, P) =\\  _{x-1}C_{\\ r-1} * P^{\\ r} * (1-P)^{\\ x-r} $$\n",
    "\n",
    "If we use this formula to and plug in the parameter values for our sample problem above, we get the following distribution:\n",
    "\n",
    "| # Coin Flips | Probability |\n",
    "|:------------:|:-----------:|\n",
    "|       2      |     0.25    |\n",
    "|       3      |     0.25    |\n",
    "|       4      |    0.1875   |\n",
    "|       5      |    0.125    |\n",
    "|       6      |    0.0781   |\n",
    "|     >= 7     |    0.1094   |\n",
    "\n",
    "\n",
    "### Characteristics of the Negative Binomial Distribution\n",
    "\n",
    "The **_mean_** of the Negative Binomial Distribution is: \n",
    "\n",
    "$$\\mu = \\frac{r}{p}$$\n",
    "\n",
    "The **_variance_** of the Negative Binomial Distribution is:\n",
    "\n",
    "$$\\sigma^2 = \\frac{r\\ (1-p)}{p^{\\ 2}}  $$\n",
    "\n",
    "### Calculating Negative Binomial Probability with Numpy\n",
    "\n",
    "Thanks to the wonders of numpy, we can avoid scary functions and calculate Negative Binomial Probabilities with a single line of code. Consider the following example code from the [numpy documenation for negative binomial sampling function](https://docs.scipy.org/doc/numpy-1.15.0/reference/generated/numpy.random.negative_binomial.html):\n",
    "\n",
    "> A company drills wild-cat oil exploration wells, each with an estimated probability of success of 0.1. What is the probability of having one success for each successive well, that is what is the probability of a single success after drilling 5 wells, after 6 wells, etc.?\n",
    "\n",
    "The following sample code is provided in the documentation to demonstrate how to solve this problem using the `negative_binomial()` function from the `numpy.random` module:"
   ]
  },
  {
   "cell_type": "code",
   "execution_count": 38,
   "metadata": {},
   "outputs": [],
   "source": [
    "x=np.random.negative_binomial(2,0.1,50)"
   ]
  },
  {
   "cell_type": "code",
   "execution_count": 42,
   "metadata": {},
   "outputs": [
    {
     "data": {
      "text/plain": [
       "array([ 3, 13,  7, 16,  1,  6, 24, 19, 36,  1, 21, 25,  1, 27, 26, 37, 10,\n",
       "       30,  2,  9, 43, 23, 12, 32, 11,  0,  3, 13, 26, 15, 10, 11, 55,  6,\n",
       "       40, 10, 14, 31, 10, 18,  9, 16,  6, 27, 37,  5, 43, 14, 20, 46])"
      ]
     },
     "execution_count": 42,
     "metadata": {},
     "output_type": "execute_result"
    }
   ],
   "source": [
    "x"
   ]
  },
  {
   "cell_type": "code",
   "execution_count": 39,
   "metadata": {},
   "outputs": [
    {
     "data": {
      "text/plain": [
       "2"
      ]
     },
     "execution_count": 39,
     "metadata": {},
     "output_type": "execute_result"
    }
   ],
   "source": [
    "sum(x==(i-1))"
   ]
  },
  {
   "cell_type": "code",
   "execution_count": 33,
   "metadata": {},
   "outputs": [
    {
     "name": "stdout",
     "output_type": "stream",
     "text": [
      "1 wells drilled, probability of success: 0.9760%\n",
      "2 wells drilled, probability of success: 1.7750%\n",
      "3 wells drilled, probability of success: 2.3960%\n",
      "4 wells drilled, probability of success: 2.8500%\n",
      "5 wells drilled, probability of success: 3.2600%\n",
      "6 wells drilled, probability of success: 3.4630%\n",
      "7 wells drilled, probability of success: 3.7720%\n",
      "8 wells drilled, probability of success: 3.7850%\n",
      "9 wells drilled, probability of success: 3.8930%\n",
      "10 wells drilled, probability of success: 3.8880%\n",
      "11 wells drilled, probability of success: 3.8580%\n",
      "12 wells drilled, probability of success: 3.7180%\n",
      "13 wells drilled, probability of success: 3.7160%\n",
      "14 wells drilled, probability of success: 3.6140%\n",
      "15 wells drilled, probability of success: 3.4380%\n"
     ]
    }
   ],
   "source": [
    "import numpy as np\n",
    "wells_drilled_vs_chance_of_one_success = []\n",
    "s = np.random.negative_binomial(2, 0.1, 100000)\n",
    "for i in range(1, 16):\n",
    "    probability = sum(s==(i-1)) / 100000\n",
    "    print(\"{} wells drilled, probability of success: {:.4f}%\".format(i, probability * 100))\n",
    "    wells_drilled_vs_chance_of_one_success.append([i, probability])"
   ]
  },
  {
   "cell_type": "code",
   "execution_count": 18,
   "metadata": {},
   "outputs": [],
   "source": [
    "import seaborn as sns\n",
    "import pandas as pd"
   ]
  },
  {
   "cell_type": "code",
   "execution_count": 21,
   "metadata": {},
   "outputs": [
    {
     "data": {
      "text/html": [
       "<div>\n",
       "<style scoped>\n",
       "    .dataframe tbody tr th:only-of-type {\n",
       "        vertical-align: middle;\n",
       "    }\n",
       "\n",
       "    .dataframe tbody tr th {\n",
       "        vertical-align: top;\n",
       "    }\n",
       "\n",
       "    .dataframe thead th {\n",
       "        text-align: right;\n",
       "    }\n",
       "</style>\n",
       "<table border=\"1\" class=\"dataframe\">\n",
       "  <thead>\n",
       "    <tr style=\"text-align: right;\">\n",
       "      <th></th>\n",
       "      <th>0</th>\n",
       "      <th>1</th>\n",
       "    </tr>\n",
       "  </thead>\n",
       "  <tbody>\n",
       "    <tr>\n",
       "      <th>0</th>\n",
       "      <td>1</td>\n",
       "      <td>0.09951</td>\n",
       "    </tr>\n",
       "    <tr>\n",
       "      <th>1</th>\n",
       "      <td>2</td>\n",
       "      <td>0.09112</td>\n",
       "    </tr>\n",
       "    <tr>\n",
       "      <th>2</th>\n",
       "      <td>3</td>\n",
       "      <td>0.08059</td>\n",
       "    </tr>\n",
       "    <tr>\n",
       "      <th>3</th>\n",
       "      <td>4</td>\n",
       "      <td>0.07303</td>\n",
       "    </tr>\n",
       "    <tr>\n",
       "      <th>4</th>\n",
       "      <td>5</td>\n",
       "      <td>0.06679</td>\n",
       "    </tr>\n",
       "    <tr>\n",
       "      <th>5</th>\n",
       "      <td>6</td>\n",
       "      <td>0.05813</td>\n",
       "    </tr>\n",
       "    <tr>\n",
       "      <th>6</th>\n",
       "      <td>7</td>\n",
       "      <td>0.05297</td>\n",
       "    </tr>\n",
       "    <tr>\n",
       "      <th>7</th>\n",
       "      <td>8</td>\n",
       "      <td>0.04714</td>\n",
       "    </tr>\n",
       "    <tr>\n",
       "      <th>8</th>\n",
       "      <td>9</td>\n",
       "      <td>0.04263</td>\n",
       "    </tr>\n",
       "    <tr>\n",
       "      <th>9</th>\n",
       "      <td>10</td>\n",
       "      <td>0.03760</td>\n",
       "    </tr>\n",
       "    <tr>\n",
       "      <th>10</th>\n",
       "      <td>11</td>\n",
       "      <td>0.03551</td>\n",
       "    </tr>\n",
       "    <tr>\n",
       "      <th>11</th>\n",
       "      <td>12</td>\n",
       "      <td>0.03121</td>\n",
       "    </tr>\n",
       "    <tr>\n",
       "      <th>12</th>\n",
       "      <td>13</td>\n",
       "      <td>0.02734</td>\n",
       "    </tr>\n",
       "    <tr>\n",
       "      <th>13</th>\n",
       "      <td>14</td>\n",
       "      <td>0.02504</td>\n",
       "    </tr>\n",
       "    <tr>\n",
       "      <th>14</th>\n",
       "      <td>15</td>\n",
       "      <td>0.02330</td>\n",
       "    </tr>\n",
       "  </tbody>\n",
       "</table>\n",
       "</div>"
      ],
      "text/plain": [
       "     0        1\n",
       "0    1  0.09951\n",
       "1    2  0.09112\n",
       "2    3  0.08059\n",
       "3    4  0.07303\n",
       "4    5  0.06679\n",
       "5    6  0.05813\n",
       "6    7  0.05297\n",
       "7    8  0.04714\n",
       "8    9  0.04263\n",
       "9   10  0.03760\n",
       "10  11  0.03551\n",
       "11  12  0.03121\n",
       "12  13  0.02734\n",
       "13  14  0.02504\n",
       "14  15  0.02330"
      ]
     },
     "execution_count": 21,
     "metadata": {},
     "output_type": "execute_result"
    }
   ],
   "source": [
    "df = pd.DataFrame(wells_drilled_vs_chance_of_one_success)\n",
    "df"
   ]
  },
  {
   "cell_type": "code",
   "execution_count": 27,
   "metadata": {},
   "outputs": [
    {
     "data": {
      "text/plain": [
       "0      1\n",
       "1      2\n",
       "2      3\n",
       "3      4\n",
       "4      5\n",
       "5      6\n",
       "6      7\n",
       "7      8\n",
       "8      9\n",
       "9     10\n",
       "10    11\n",
       "11    12\n",
       "12    13\n",
       "13    14\n",
       "14    15\n",
       "Name: 0, dtype: int64"
      ]
     },
     "execution_count": 27,
     "metadata": {},
     "output_type": "execute_result"
    }
   ],
   "source": [
    "df[0]"
   ]
  },
  {
   "cell_type": "code",
   "execution_count": 29,
   "metadata": {},
   "outputs": [
    {
     "data": {
      "text/plain": [
       "<matplotlib.axes._subplots.AxesSubplot at 0x7f17eb0866a0>"
      ]
     },
     "execution_count": 29,
     "metadata": {},
     "output_type": "execute_result"
    },
    {
     "data": {
      "image/png": "[encoded data removed]",
      "text/plain": [
       "<Figure size 432x288 with 1 Axes>"
      ]
     },
     "metadata": {
      "needs_background": "light"
     },
     "output_type": "display_data"
    }
   ],
   "source": [
    "sns.barplot(x = df[0], y = df[1])"
   ]
  },
  {
   "cell_type": "markdown",
   "metadata": {},
   "source": [
    "## Summary\n",
    "\n",
    "In this lesson, we learned all about the **_Negative Binomial Distribution_**, as well as related concepts such as **_Negative Binomial Trials_** and **_Negative Binomial Probability_**.  "
   ]
  }
 ],
 "metadata": {
  "kernelspec": {
   "display_name": "Python 3",
   "language": "python",
   "name": "python3"
  },
  "language_info": {
   "codemirror_mode": {
    "name": "ipython",
    "version": 3
   },
   "file_extension": ".py",
   "mimetype": "text/x-python",
   "name": "python",
   "nbconvert_exporter": "python",
   "pygments_lexer": "ipython3",
   "version": "3.6.6"
  }
 },
 "nbformat": 4,
 "nbformat_minor": 2
}
